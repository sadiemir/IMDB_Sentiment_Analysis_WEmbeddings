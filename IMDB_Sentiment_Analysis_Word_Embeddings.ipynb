{
 "cells": [
  {
   "cell_type": "markdown",
   "id": "935c6193",
   "metadata": {},
   "source": [
    "IMDB sentiment analysis with word embedding"
   ]
  },
  {
   "cell_type": "markdown",
   "id": "5fd8890e",
   "metadata": {},
   "source": [
    "#### Step 1: Load and Preprocess the data"
   ]
  },
  {
   "cell_type": "code",
   "execution_count": 1,
   "id": "773091f7",
   "metadata": {},
   "outputs": [],
   "source": [
    "#Load the IMDB dataset\n",
    "from datasets import load_dataset\n",
    "\n",
    "#Load the imdb dataset\n",
    "imdb_dataset = load_dataset(\"imdb\")\n",
    "\n",
    "# Take a small subset for training and testing to keep things manageable\n",
    "train_data = imdb_dataset['train'].shuffle(seed=42).select(range(1000))\n",
    "test_data = imdb_dataset['test'].shuffle(seed=42).select(range(500))"
   ]
  },
  {
   "cell_type": "code",
   "execution_count": 2,
   "id": "a2aa7c46",
   "metadata": {
    "scrolled": true
   },
   "outputs": [
    {
     "name": "stderr",
     "output_type": "stream",
     "text": [
      "[nltk_data] Downloading package wordnet to\n",
      "[nltk_data]     /Users/smirghor/nltk_data...\n",
      "[nltk_data]   Package wordnet is already up-to-date!\n",
      "[nltk_data] Downloading package averaged_perceptron_tagger_eng to\n",
      "[nltk_data]     /Users/smirghor/nltk_data...\n",
      "[nltk_data]   Package averaged_perceptron_tagger_eng is already up-to-\n",
      "[nltk_data]       date!\n",
      "[nltk_data] Downloading package stopwords to\n",
      "[nltk_data]     /Users/smirghor/nltk_data...\n",
      "[nltk_data]   Package stopwords is already up-to-date!\n"
     ]
    }
   ],
   "source": [
    "# import necessary libraries for NLP processing\n",
    "import nltk\n",
    "from nltk.tokenize import TreebankWordTokenizer #for breaking text into words\n",
    "from nltk.stem import PorterStemmer, WordNetLemmatizer #for stemming and lemmatization\n",
    "from nltk.corpus import wordnet, stopwords #for accessing word meaning and stopwords\n",
    "from nltk import pos_tag #for part of speech tagging\n",
    "\n",
    "#download required resources for tokenization, lemmatization, and stop words removal\n",
    "nltk.data.path.append('/Users/smirghor/nltk_data')\n",
    "nltk.download('wordnet') \n",
    "nltk.download('averaged_perceptron_tagger_eng') #POS tagger for lemmatization\n",
    "nltk.download('stopwords') #stop words list\n",
    "\n",
    "#innitialize the stemmer and lemmatizer\n",
    "tokenizer = TreebankWordTokenizer()\n",
    "stemmer = PorterStemmer()\n",
    "lemmatizer = WordNetLemmatizer()\n",
    "stop_words = set(stopwords.words('english')) #define a set of common english stop words\n",
    "\n",
    "\n",
    "# Function to convert POS tags to a format suitable for WordNet lemmatization\n",
    "def get_wordnet_pos(tag):\n",
    "    # Map POS tag to WordNet format for accurate lemmatization\n",
    "    if tag.startswith('J'):\n",
    "        return wordnet.ADJ  # Adjective\n",
    "    elif tag.startswith('V'):\n",
    "        return wordnet.VERB  # Verb\n",
    "    elif tag.startswith('N'):\n",
    "        return wordnet.NOUN  # Noun\n",
    "    elif tag.startswith('R'):\n",
    "        return wordnet.ADV  # Adverb\n",
    "    else:\n",
    "        return wordnet.NOUN  # Default to noun if unknown\n",
    "\n",
    "\n",
    "# Function to preprocess a given text \n",
    "def preprocess_text(text):\n",
    "    # 1. tokenize the text into words\n",
    "    tokens = tokenizer.tokenize(text)\n",
    "    # 2. apply stemming\n",
    "    tokens = [stemmer.stem(token) for token in tokens if token.isalpha()]\n",
    "    #3. apply lemmatization\n",
    "    tokens = [lemmatizer.lemmatize(token, get_wordnet_pos(pos_tag([token])[0][1])) for token in tokens]\n",
    "    #4. remove stop words\n",
    "    tokens = [token for token in tokens if token.lower() not in stop_words]\n",
    "    # join the token back into a single string and return it\n",
    "    return ' '.join(tokens)\n",
    "\n"
   ]
  },
  {
   "cell_type": "code",
   "execution_count": 3,
   "id": "462fc52d-0d2f-4876-9ce3-57c9cfc91ef4",
   "metadata": {},
   "outputs": [],
   "source": [
    "#Apply preprocessing to the training data\n",
    "Preprocessed_train_data= [preprocess_text(review['text']) for review in train_data]\n",
    "preprocessed_test_data = [preprocess_text(review['text']) for review in test_data]\n",
    "\n",
    "#Extract the laels (0=Negative, 1=Positive)\n",
    "y_train = [review['label'] for review in train_data]\n",
    "y_test = [review['label'] for review in test_data]"
   ]
  },
  {
   "cell_type": "markdown",
   "id": "8408a767-1729-40cf-a524-07fb0d207543",
   "metadata": {},
   "source": [
    "#### Step 2: Convert preprocessed reviews to Vectors uning GloVe"
   ]
  },
  {
   "cell_type": "code",
   "execution_count": 4,
   "id": "8431a949",
   "metadata": {},
   "outputs": [
    {
     "name": "stdout",
     "output_type": "stream",
     "text": [
      "Loaded 400000 word vectors.\n"
     ]
    }
   ],
   "source": [
    "#\t1.\tLoad GloVe Embeddings:\n",
    "import numpy as np \n",
    "\n",
    "#Define a function to load Glove embeddings\n",
    "def load_glove_embeddings(file_path):\n",
    "    embeddings_index = {} # Dictionary to store the word vectors\n",
    "    with open(file_path, 'r', encoding='utf-8') as f:\n",
    "        for line in f:\n",
    "            values = line.split() # Split the line into word and coefficients\n",
    "            word = values[0] # The word is the first value\n",
    "            vector = np.asarray(values[1:], dtype='float32') # Coefficients are the rest of the values\n",
    "            embeddings_index[word] = vector # Store the word and its vector in the dictionary\n",
    "    return embeddings_index\n",
    "\n",
    "#Load Glove embeddings (adjust the path as needed)\n",
    "glove_file_path = '/Users/smirghor/Library/Mobile Documents/com~apple~CloudDocs/Personal/Machine Learning Projects/glove.6B/glove.6B.100d.txt'\n",
    "\n",
    "# Load the embeddings into the 'embeddings_index' variable\n",
    "embeddings_index = load_glove_embeddings(glove_file_path)\n",
    "\n",
    "# Print the number of words loaded\n",
    "print(f\"Loaded {len(embeddings_index)} word vectors.\")"
   ]
  },
  {
   "cell_type": "code",
   "execution_count": 5,
   "id": "714c7346",
   "metadata": {},
   "outputs": [
    {
     "name": "stdout",
     "output_type": "stream",
     "text": [
      "Training Data Vector Shape: (1000, 100)\n"
     ]
    }
   ],
   "source": [
    "# 2. Convert Reviews to Vectors:\n",
    "# function to convert a review into an average vector using GloVe\n",
    "def review_to_vector(review, embedding, dim=300):\n",
    "    words = review.split() #split reviews into individual words\n",
    "    word_vectors = [embedding[word] for word in words if word in embedding]\n",
    "    if len(word_vectors) ==0:\n",
    "        return np.zeros(dim) #Return a zero vector if no words have embeddings\n",
    "    return np.mean(word_vectors, axis=0) #Average the vectors\n",
    "\n",
    "#Apply this function to training and test data\n",
    "X_train_vectors = np.array([review_to_vector(review, embeddings_index) for review in Preprocessed_train_data])\n",
    "X_test_vectors = np.array([review_to_vector(review, embeddings_index) for review in preprocessed_test_data])\n",
    "\n",
    "#Check the shape of the training vector\n",
    "print(f\"Training Data Vector Shape: {X_train_vectors.shape}\")"
   ]
  },
  {
   "cell_type": "markdown",
   "id": "29ff7046-1353-43ca-8cc9-ba6bb9424a90",
   "metadata": {},
   "source": [
    "#### Step 3: Build and train a neural network model"
   ]
  },
  {
   "cell_type": "code",
   "execution_count": null,
   "id": "a1ed9087-7a2e-4fae-911e-d3b0d9ac3149",
   "metadata": {},
   "outputs": [],
   "source": [
    "import tensorflow as tf\n",
    "from tensorflow.keras.models import Sequential\n",
    "from tensorflow.keras.layers import Dense\n",
    "\n",
    "#Define a simple neural network model \n",
    "model = Sequential([\n",
    "    Dense(64, activation='relu', input_shape=(300,)), #Input layer with 64 neuron, and ReLu activation\n",
    "    Dense(32, activation='relu'), #Hidden layer with 32 neuron\n",
    "    Sende(1, activation='sigmoid') #Output layer with sigmoid for binary classification\n",
    "])\n",
    "\n",
    "#Compile the model with binary cross-entropy loss and th Adam optimizer\n",
    "model.compile(optimizer='adam', loss='binary_crossentropy', metrics=['accuracy'])\n",
    "\n",
    "#Train the model using the training vectors\n",
    "history = model.fit(X_train_vectors, np.array(y_train), epoch=10, batch_size=32, validation_split=0.2)"
   ]
  },
  {
   "cell_type": "code",
   "execution_count": null,
   "id": "2bb0981d-3a2e-4ed6-a6c6-4949084f6317",
   "metadata": {},
   "outputs": [],
   "source": []
  }
 ],
 "metadata": {
  "kernelspec": {
   "display_name": "Python 3 (ipykernel)",
   "language": "python",
   "name": "python3"
  },
  "language_info": {
   "codemirror_mode": {
    "name": "ipython",
    "version": 3
   },
   "file_extension": ".py",
   "mimetype": "text/x-python",
   "name": "python",
   "nbconvert_exporter": "python",
   "pygments_lexer": "ipython3",
   "version": "3.10.15"
  }
 },
 "nbformat": 4,
 "nbformat_minor": 5
}
